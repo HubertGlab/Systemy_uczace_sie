{
 "cells": [
  {
   "cell_type": "code",
   "execution_count": 99,
   "metadata": {},
   "outputs": [],
   "source": [
    "from functions import *\n",
    "from classes import *"
   ]
  },
  {
   "cell_type": "code",
   "execution_count": 100,
   "metadata": {},
   "outputs": [],
   "source": [
    "with open('gielda.txt', 'r') as file:\n",
    "    data = [line.strip().split(',') for line in file]"
   ]
  },
  {
   "cell_type": "code",
   "execution_count": 101,
   "metadata": {},
   "outputs": [],
   "source": [
    "def create_decision_tree(data, decision_index):\n",
    "    transposed = transpozycja(data)\n",
    "    balanced_info_gain, index = best_info_gain(transposed)\n",
    "    count_data = counting_all(transposed)\n",
    "    node = Node(attribute_index=index)\n",
    "    if balanced_info_gain == 0:\n",
    "        node.decision = max(count_data[decision_index])\n",
    "        return node\n",
    "    unique_val = set(count_data[index])\n",
    "    for value in unique_val:\n",
    "        indexes = [ind for ind, item in enumerate(transposed[index]) if item == value]\n",
    "        child_data = [data[ind] for ind in indexes]\n",
    "        node.children[value] = create_decision_tree(child_data, decision_index)\n",
    "    return node\n"
   ]
  },
  {
   "cell_type": "code",
   "execution_count": 102,
   "metadata": {},
   "outputs": [
    {
     "name": "stdout",
     "output_type": "stream",
     "text": [
      "Split by attribute: 0\n",
      "Value: new\n",
      "  Decision: up\n",
      "Value: mid\n",
      "  Split by attribute: 1\n",
      "  Value: no\n",
      "    Decision: up\n",
      "  Value: yes\n",
      "    Decision: down\n",
      "Value: old\n",
      "  Decision: down\n"
     ]
    }
   ],
   "source": [
    "decision_row = len(counting_all(transpozycja(data))) - 1\n",
    "decision_tree = create_decision_tree(data, decision_row)\n",
    "def print_decision_tree(node, indent=''):\n",
    "    if node.decision is not None:\n",
    "        print(indent + 'Decision:', node.decision)\n",
    "    else:\n",
    "        print(indent + 'Split by attribute:', node.attribute_index)\n",
    "        for value, child_node in node.children.items():\n",
    "            print(indent + 'Value:', value)\n",
    "            print_decision_tree(child_node, indent + '  ')\n",
    "print_decision_tree(decision_tree)"
   ]
  }
 ],
 "metadata": {
  "kernelspec": {
   "display_name": ".venv",
   "language": "python",
   "name": "python3"
  },
  "language_info": {
   "codemirror_mode": {
    "name": "ipython",
    "version": 3
   },
   "file_extension": ".py",
   "mimetype": "text/x-python",
   "name": "python",
   "nbconvert_exporter": "python",
   "pygments_lexer": "ipython3",
   "version": "3.12.1"
  }
 },
 "nbformat": 4,
 "nbformat_minor": 2
}
