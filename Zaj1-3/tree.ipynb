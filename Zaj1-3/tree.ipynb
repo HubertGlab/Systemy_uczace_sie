{
 "cells": [
  {
   "cell_type": "code",
   "execution_count": 228,
   "metadata": {},
   "outputs": [],
   "source": [
    "from functions import *\n",
    "from classes import *"
   ]
  },
  {
   "cell_type": "code",
   "execution_count": 229,
   "metadata": {},
   "outputs": [],
   "source": [
    "with open('gielda.txt', 'r') as file:\n",
    "    data = [line.strip().split(',') for line in file]"
   ]
  },
  {
   "cell_type": "code",
   "execution_count": 230,
   "metadata": {},
   "outputs": [],
   "source": [
    "def create_decision_tree(data, decision_index):\n",
    "    transposed = transpozycja(data)\n",
    "    balanced_info_gain, index = best_info_gain(transposed)\n",
    "    count_data = counting_all(transposed)\n",
    "    node = Node(attribute_index=index)\n",
    "    if balanced_info_gain == 0:\n",
    "        node.decision = max(count_data[decision_index])\n",
    "        return node\n",
    "    unique_val = set(count_data[index])\n",
    "    for value in unique_val:\n",
    "        indexes = [ind for ind, item in enumerate(transposed[index]) if item == value]\n",
    "        child_data = [data[ind] for ind in indexes]\n",
    "        node.children[value] = create_decision_tree(child_data, decision_index)\n",
    "    return node\n"
   ]
  },
  {
   "cell_type": "code",
   "execution_count": 231,
   "metadata": {},
   "outputs": [],
   "source": [
    "def print_decision_tree(node, indentation='', split_iter = 1):\n",
    "    end = \"\\033[0;0m\"\n",
    "    if node.decision != None:\n",
    "        print(f'{indentation}\\033[95mDecision: {node.decision}{end}')\n",
    "    else:\n",
    "        print(f'{indentation}\\033[92mSplit by attribute: {node.attribute_index}{end}')\n",
    "        for value, child_node in node.children.items():\n",
    "            print(f'\\033[94m    {indentation}split: {split_iter}{end}\\n' \n",
    "                  f'\\033[96m    {indentation}Value: {value}{end}')\n",
    "            print_decision_tree(child_node, indentation + '    ', split_iter + 1)"
   ]
  },
  {
   "cell_type": "code",
   "execution_count": 232,
   "metadata": {},
   "outputs": [
    {
     "name": "stdout",
     "output_type": "stream",
     "text": [
      "\u001b[92mSplit by attribute: 0\u001b[0;0m\n",
      "\u001b[94m    split: 1\u001b[0;0m\n",
      "\u001b[96m    Value: mid\u001b[0;0m\n",
      "    \u001b[92mSplit by attribute: 1\u001b[0;0m\n",
      "\u001b[94m        split: 2\u001b[0;0m\n",
      "\u001b[96m        Value: yes\u001b[0;0m\n",
      "        \u001b[95mDecision: down\u001b[0;0m\n",
      "\u001b[94m        split: 2\u001b[0;0m\n",
      "\u001b[96m        Value: no\u001b[0;0m\n",
      "        \u001b[95mDecision: up\u001b[0;0m\n",
      "\u001b[94m    split: 1\u001b[0;0m\n",
      "\u001b[96m    Value: new\u001b[0;0m\n",
      "    \u001b[95mDecision: up\u001b[0;0m\n",
      "\u001b[94m    split: 1\u001b[0;0m\n",
      "\u001b[96m    Value: old\u001b[0;0m\n",
      "    \u001b[95mDecision: down\u001b[0;0m\n"
     ]
    }
   ],
   "source": [
    "decision_row = len(counting_all(transpozycja(data))) - 1\n",
    "decision_tree = create_decision_tree(data, decision_row)\n",
    "print_decision_tree(decision_tree)"
   ]
  }
 ],
 "metadata": {
  "kernelspec": {
   "display_name": ".venv",
   "language": "python",
   "name": "python3"
  },
  "language_info": {
   "codemirror_mode": {
    "name": "ipython",
    "version": 3
   },
   "file_extension": ".py",
   "mimetype": "text/x-python",
   "name": "python",
   "nbconvert_exporter": "python",
   "pygments_lexer": "ipython3",
   "version": "3.12.1"
  }
 },
 "nbformat": 4,
 "nbformat_minor": 2
}
